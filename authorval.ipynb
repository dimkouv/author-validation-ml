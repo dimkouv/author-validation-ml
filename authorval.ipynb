{
 "cells": [
  {
   "cell_type": "markdown",
   "metadata": {},
   "source": [
    "# Author validation\n",
    "\n",
    "A machine learning model that identifies whether or not the claimed author of some content is the original. \n",
    "We're going to use reddit comments, fetched from r/cryptocurrency for our train/test dataset."
   ]
  },
  {
   "cell_type": "code",
   "execution_count": 1,
   "metadata": {},
   "outputs": [
    {
     "name": "stderr",
     "output_type": "stream",
     "text": [
      "[nltk_data] Downloading package wordnet to /home/ken/nltk_data...\n",
      "[nltk_data]   Package wordnet is already up-to-date!\n"
     ]
    },
    {
     "data": {
      "text/plain": [
       "True"
      ]
     },
     "execution_count": 1,
     "metadata": {},
     "output_type": "execute_result"
    }
   ],
   "source": [
    "import numpy as np\n",
    "import pandas as pd\n",
    "from IPython.display import display\n",
    "import matplotlib.pyplot as plt\n",
    "\n",
    "import nltk\n",
    "nltk.download(\"wordnet\")"
   ]
  },
  {
   "cell_type": "markdown",
   "metadata": {},
   "source": [
    "We're going to load our datasets into a pandas dataframe first."
   ]
  },
  {
   "cell_type": "code",
   "execution_count": 2,
   "metadata": {},
   "outputs": [],
   "source": [
    "data_dir = \"~/Datasets/reddit-rcryptocurrency/\"\n",
    "datasets = {\"%s%s.csv\" % (data_dir, t) for t in [\"2017-11\", \"2017-12\", \"2018-01\", \"2018-02\", \"2018-03\"]}\n",
    "dt_cols = {\"author\": str, \"body\": str, \"created_utc\": str}\n",
    "df = pd.concat([pd.read_csv(dataset, usecols=dt_cols, dtype=dt_cols) for dataset in datasets], ignore_index=True)"
   ]
  },
  {
   "cell_type": "markdown",
   "metadata": {},
   "source": [
    "Let's get some insights from our dataset."
   ]
  },
  {
   "cell_type": "code",
   "execution_count": 3,
   "metadata": {},
   "outputs": [
    {
     "data": {
      "text/plain": [
       "author         2160613\n",
       "body           2160613\n",
       "created_utc    2160613\n",
       "dtype: int64"
      ]
     },
     "execution_count": 3,
     "metadata": {},
     "output_type": "execute_result"
    }
   ],
   "source": [
    "df = df.dropna()\n",
    "df.count()"
   ]
  },
  {
   "cell_type": "markdown",
   "metadata": {},
   "source": [
    "We have more than 2 million reddit comments."
   ]
  },
  {
   "cell_type": "code",
   "execution_count": 4,
   "metadata": {},
   "outputs": [
    {
     "data": {
      "text/html": [
       "<div>\n",
       "<style scoped>\n",
       "    .dataframe tbody tr th:only-of-type {\n",
       "        vertical-align: middle;\n",
       "    }\n",
       "\n",
       "    .dataframe tbody tr th {\n",
       "        vertical-align: top;\n",
       "    }\n",
       "\n",
       "    .dataframe thead th {\n",
       "        text-align: right;\n",
       "    }\n",
       "</style>\n",
       "<table border=\"1\" class=\"dataframe\">\n",
       "  <thead>\n",
       "    <tr style=\"text-align: right;\">\n",
       "      <th></th>\n",
       "      <th>author</th>\n",
       "      <th>body</th>\n",
       "      <th>created_utc</th>\n",
       "    </tr>\n",
       "  </thead>\n",
       "  <tbody>\n",
       "    <tr>\n",
       "      <th>0</th>\n",
       "      <td>patientzero_</td>\n",
       "      <td>what is taxable then in your opinion?</td>\n",
       "      <td>1519862403</td>\n",
       "    </tr>\n",
       "    <tr>\n",
       "      <th>1</th>\n",
       "      <td>FreeSpeechWarrior</td>\n",
       "      <td>This post got censored</td>\n",
       "      <td>1519862404</td>\n",
       "    </tr>\n",
       "    <tr>\n",
       "      <th>2</th>\n",
       "      <td>heresmyusername</td>\n",
       "      <td>NEO = gud</td>\n",
       "      <td>1519862405</td>\n",
       "    </tr>\n",
       "    <tr>\n",
       "      <th>3</th>\n",
       "      <td>longbreaks</td>\n",
       "      <td>Selling at ATH = His average price is damn nea...</td>\n",
       "      <td>1519862406</td>\n",
       "    </tr>\n",
       "    <tr>\n",
       "      <th>4</th>\n",
       "      <td>916hotdogs</td>\n",
       "      <td>[removed]</td>\n",
       "      <td>1519862408</td>\n",
       "    </tr>\n",
       "    <tr>\n",
       "      <th>5</th>\n",
       "      <td>havllis</td>\n",
       "      <td>Offcourse everyone on DarkWeb using Macintosh,...</td>\n",
       "      <td>1519862409</td>\n",
       "    </tr>\n",
       "    <tr>\n",
       "      <th>6</th>\n",
       "      <td>Poozy</td>\n",
       "      <td>Holly shit ICX is killing me</td>\n",
       "      <td>1519862415</td>\n",
       "    </tr>\n",
       "    <tr>\n",
       "      <th>7</th>\n",
       "      <td>porkchop487</td>\n",
       "      <td>The company that partnered with them had Vital...</td>\n",
       "      <td>1519862424</td>\n",
       "    </tr>\n",
       "    <tr>\n",
       "      <th>8</th>\n",
       "      <td>vGrizzly</td>\n",
       "      <td>And this is enough for me to never own any WTC...</td>\n",
       "      <td>1519862425</td>\n",
       "    </tr>\n",
       "    <tr>\n",
       "      <th>9</th>\n",
       "      <td>cryptocrazy55</td>\n",
       "      <td>Also, why do they have themselves in there 18 ...</td>\n",
       "      <td>1519862429</td>\n",
       "    </tr>\n",
       "  </tbody>\n",
       "</table>\n",
       "</div>"
      ],
      "text/plain": [
       "              author                                               body  \\\n",
       "0       patientzero_              what is taxable then in your opinion?   \n",
       "1  FreeSpeechWarrior                             This post got censored   \n",
       "2    heresmyusername                                          NEO = gud   \n",
       "3         longbreaks  Selling at ATH = His average price is damn nea...   \n",
       "4         916hotdogs                                          [removed]   \n",
       "5            havllis  Offcourse everyone on DarkWeb using Macintosh,...   \n",
       "6              Poozy                       Holly shit ICX is killing me   \n",
       "7        porkchop487  The company that partnered with them had Vital...   \n",
       "8           vGrizzly  And this is enough for me to never own any WTC...   \n",
       "9      cryptocrazy55  Also, why do they have themselves in there 18 ...   \n",
       "\n",
       "  created_utc  \n",
       "0  1519862403  \n",
       "1  1519862404  \n",
       "2  1519862405  \n",
       "3  1519862406  \n",
       "4  1519862408  \n",
       "5  1519862409  \n",
       "6  1519862415  \n",
       "7  1519862424  \n",
       "8  1519862425  \n",
       "9  1519862429  "
      ]
     },
     "execution_count": 4,
     "metadata": {},
     "output_type": "execute_result"
    }
   ],
   "source": [
    "df.head(n=10)"
   ]
  },
  {
   "cell_type": "markdown",
   "metadata": {},
   "source": [
    "Some of the text contains links, some authors are deleted, let's dive a little deeper on the texts first."
   ]
  },
  {
   "cell_type": "code",
   "execution_count": 5,
   "metadata": {},
   "outputs": [
    {
     "name": "stdout",
     "output_type": "stream",
     "text": [
      "what is taxable then in your opinion?\n",
      "-----------------\n",
      "This post got censored\n",
      "-----------------\n",
      "NEO = gud\n",
      "-----------------\n",
      "Selling at ATH = His average price is damn near where LTC is hovering right now.\n",
      "\n",
      "Shilling the shit out of = questioning trade offs for fast and free transactions, and saying the tech is cool.\n",
      "\n",
      "Noted. I don't think it's betrayal at all. You'd be stupid think Bill Gates or Steve Jobs never said anything nice about the other, even if it wasn't public.\n",
      "-----------------\n",
      "[removed]\n",
      "-----------------\n",
      "Offcourse everyone on DarkWeb using Macintosh, Bill said.\n",
      "-----------------\n",
      "Holly shit ICX is killing me\n",
      "-----------------\n",
      "The company that partnered with them had Vitalik's endorsement so people believed that it meant Vitalik endorsed them himself. Unless you have a source of V saying that Vitalik partnered with them\n",
      "-----------------\n",
      "And this is enough for me to never own any WTC ever again, good job!\n",
      "-----------------\n",
      "Also, why do they have themselves in there 18 times?\n",
      "-----------------\n",
      "He was also specifically talking about crypto*currency*, not blockchain technology.\n",
      "-----------------\n",
      "who's that?\n",
      "-----------------\n",
      "Germany is way safer than most other countries.\n",
      "-----------------\n",
      "V defeated Walton and they didn't even need to do anything. WTC knocked themselves out. So amateur, even their new website is a rushed mess. They really have no idea what they're doing.\n",
      "\n",
      "So that leaves me hodling some heavy, heavy WTC bags until this blows over. \n",
      "-----------------\n",
      "Every other post is about nano\n",
      "-----------------\n",
      "The current address system is a mess. Packages get lost, delayed... Finding a destination is hard if you are abroad. This makes so much sense. \n",
      "-----------------\n",
      "[obliterated]\n",
      "-----------------\n",
      "Thats what i'm hoping for. It seems a strong platform capable of doing it again. Despite all the dips and flips recently, its maintained pretty well. Additionally, its BTC value has gone pretty low\n",
      "-----------------\n",
      "Germany is way safer than most other countries.\n",
      "-----------------\n",
      "Just so everyone understands, Airswap’s platform could be used to support Goldman’s new trading desk when it launches. Investment firms are the target audience. \n",
      "-----------------\n",
      "[removed]\n",
      "-----------------\n",
      "What does that have to do with anything? Of course there are other fishy projects. *But they got caught red handed.* And they are a top 50 coin, they should be held to higher standards. Honestly, how much money would it have been to actually dish out the prizes?\n",
      "-----------------\n",
      "I insta sold. Entire stack. Fuck that shit.\n",
      "\n",
      "Even though it tanked, I caught a bit of a dead cat bounce there, luckily, but I would have sold anyways. \n",
      "\n",
      "On the good news, OMG, ICX, VEN are still incredible deals. I also bought some more Neo on the small dip today. I can't see it being this cheap ever again.\n",
      "\n",
      "I'm much happier with my money where it is now, despite taking a bit of a haircut on Waltonscam\n",
      "-----------------\n",
      "Calm down fellow Germans. This just means that you won't have to pay Umsatzsteuer when buying cryptos. I assume this is in reaction to this one: https://www.btc-echo.de/finanzamt-bonn-forderte-angeblich-umsatzsteuer-bei-bitcoin-veraeusserung/\n",
      "\n",
      "You still will have to pay 25% taxes on your gains if you hold less than a year.\n",
      "-----------------\n",
      "For all of you following the [thread](https://www.reddit.com/r/CryptoCurrency/comments/80y51m/walton_got_busted_fake_winners_on_twitter/?utm_content=comments&amp;utm_medium=hot&amp;utm_source=reddit&amp;utm_name=CryptoCurrency) this marks what  I can only imagine is just the beginning of media coverage surrounding this issue\n",
      "-----------------\n",
      "The coin that can't be named. Starts with a V.\n",
      "-----------------\n",
      "&gt; there was no rules that he could not enter\n",
      "\n",
      "Part of the reason its scummy is that there should have been those rules\n",
      "-----------------\n",
      "I sold. There are a lot of other great projects out there. better be safe than sorry\n",
      "-----------------\n",
      "LOL best answer in the thread. \n",
      "-----------------\n",
      "Get Charlie Lee's dick out of your mouth.\n",
      "-----------------\n",
      "2nd this.\n",
      "-----------------\n",
      "I prefer neo because of the GAS Dividends. The beauty is when NEO goes up GAS goes up, so it's like getting some double bonus dividend. Along with that NEO's got airdrops! Theoretically I can see neo hit Ethereum pirces, given what it is. \n",
      "-----------------\n",
      "Market falls by 55%. ICO sales lowered by 55%. Who'da thunk? \n",
      "-----------------\n",
      "Huge red flags. This is not a good look.\n",
      "-----------------\n",
      "There it is. \n",
      "“I doubt he is as informed.”\n",
      "\n",
      "You’re talking about Bill Gates.\n",
      "-----------------\n",
      "Still overvalued for where it is. Long term potential is there but they have a lot to prove. Pumped way to hard during heyday. Can see them easily going the way of wtc.\n",
      "-----------------\n",
      "It’s just gone midnight, is January over yet?\n",
      "-----------------\n",
      "LMAO\n",
      "-----------------\n",
      "Yes, it could have been an honest mistake. It doesn't mean this should be brushed off. You and all the other WTC fans are just mad they got caught. They should be held to a high standard if they have a market cap of nearly half a billion dollars.\n",
      "-----------------\n",
      "You have ICX. Score = 10.\n",
      "\n",
      "But, you have Tron and Ripple. \n",
      "\n",
      "Final score = 1.\n",
      "-----------------\n",
      "A  little luck for a change, saw WTC falling and got out before I sit around with another bag of loooooooong shots.\n",
      "-----------------\n",
      "Stuff like this is enough of a reason for me to never own any WTC again. Good job Walton!\n",
      "-----------------\n",
      "[removed]\n",
      "-----------------\n",
      "Keanu approves\n",
      "-----------------\n",
      "The answer is dragonchain.\n",
      "-----------------\n",
      "Thats how the market works. learn or stop investing\n",
      "-----------------\n",
      "Your logic is a bit skewed.\n",
      "-----------------\n",
      "i think people are blowing it out of proportion for their own motives.\n",
      "\n",
      "they're hoping to buy in at a cheaper price or they're hoping people selling might pick up their bags.\n",
      "\n",
      "either way it seems really fishy to me that people are flocking to this and jumping on it as fervently as they are. honestly it seems like if anything people are being paid to make this seem like it's a bigger deal than it really is.\n",
      "-----------------\n",
      "Luckily I got mine at a dollar, sold above 30 and bought back in below ten. It's really served me nicely so far.\n",
      "-----------------\n",
      "[removed]\n",
      "-----------------\n",
      "Yeah, the OP got banned permanently\n",
      "-----------------\n",
      "If someone falls for this. They deserve it.\n",
      "-----------------\n",
      "Overhyped for what it is.\n",
      "-----------------\n",
      "I got out before the tweet when it was up like 5% for the day.  Man, I didn't think something like this was about to happen.  \n",
      "-----------------\n",
      "I smell patchouli \n",
      "-----------------\n",
      "Seems like there may be a language barrier. Shows you communists gonna communist.\n",
      "-----------------\n",
      "All aboard for January 60th\n",
      "-----------------\n",
      "the banned one? Lol... no. \n",
      "-----------------\n",
      "As opposed to getting blasted in the face with a gun or robbed by one of my fellow countrymen.\n",
      "-----------------\n",
      "It certainly raises some questions. Here is the mp4 of the video they shot (supposedly) to randomly select the winners.\n",
      "\n",
      "http://waltonknights.org/wp-content/uploads/2018/02/valentinescript.mp4\n",
      "-----------------\n",
      "Because they are not smart?\n",
      "-----------------\n",
      "&gt; They are not focusing on the western market at all.\n",
      "\n",
      "They frauded a Valentine's day contest... and even if it were true idk how that defends the following sentence. Anyhow, I suppose my logic is debatable so I'll rephrase, \"around $100m of WTC value has vaporized\".\n",
      "-----------------\n",
      "Think about this way: just like with any other company, Walton is comprised of several departments and their corresponding people. In this case, their PR department goofed **hard**. But the ones working on the technology did not, and compared with the competition, that technology has often been lauded as the best of the bunch. On top of that, there isn't really a reason why several supply chain platforms cannot coexist in order to serve different industries. \n",
      "\n",
      "I don't hold any WTC myself, but as an outsider, this feels similar to the Bitgrail fiasco that Nano underwent not so long ago (which I WAS a part of). People will be quick to point out the difference being that this incident was entirely WTC's fault, but remember that so long as the technology has not been compromised, it will likely be forgotten about in due time. \n",
      "-----------------\n",
      "You see the thing is, Reddit and even the real world are filled with people who only care about their OWN benefit. A majority of Redditors in /r/cryptocurrency have blockchain technology bags and not so much DAG bags like Nano. Therefor it's in their best interest to SHIT all over ANY coin that stands in their \"way\".\n",
      "\n",
      "Remember it's all about the money and personal gain with 95%+ of people. And that's a statistic pulled directly from my ass so you know it's legitimate because internet.\n",
      "\n",
      "I'm personally happy to see how upset people are over this new technology. People are scared :D\n",
      "-----------------\n",
      "It means if you're going to hold this standard to WTC then apply the same to whatever coins you're holding. That's where the naive part comes in. Yet you don't despite holding whatever bags. \n",
      "-----------------\n",
      "ENG \n",
      "\n",
      "LTC\n",
      "\n",
      "BTC\n",
      "\n",
      "ETH\n",
      "\n",
      "-----------------\n",
      "The spread on this is still probably better than the hourly change in value of a crypto.\n",
      "-----------------\n",
      "He did say he owns the coin though \n",
      "-----------------\n",
      "So, WTC made a costly tweet.  Yes, it was stupid as hell, but has the fundamentals of the project changed?  Hopefully, going forward the team properly addresses the situation, takes the loss, and moves on.\n",
      "-----------------\n",
      "Good fucking luck\n",
      "-----------------\n",
      "[hmmm](https://i.imgur.com/rpfi1X8.jpg)\n",
      "-----------------\n",
      "Definitely didn't expect him to come out and say something like that to say the least. Many people in the Litecoin community are very upset that he would \"go against\" Litecoin, even though he is just embracing great technologies.\n",
      "-----------------\n",
      "what website?\n",
      "\n",
      "getNav(父类ID,位置,是否获取子菜单)获取菜单\n",
      "1级菜单111\n",
      "222222\n",
      "23332323\n",
      "2级菜单22\n",
      "getMenu(父类ID,是否获取子栏目)获取栏目\n",
      "产品\n",
      "二级栏目\n",
      "二级菜单\n",
      "-----------------\n",
      "Paid your mom off.\n",
      "-----------------\n",
      "So disappointed by this, I thought they had hired a new marketing team but looks like they need to go back to the drawing board. How dumb can you be. I still believe in the project but trust and professionalism is everything in this space and they just lost a lot of that with 1 tweet.\n",
      "-----------------\n",
      "My ICX position expanding daily... I can only get so erect.\n",
      "-----------------\n",
      "Will be unbanned tomorrow\n",
      "-----------------\n",
      "I've owned WTC and the forbidden one for awhile but I thought this was funny. I really doubt WTC's leadership ordered the Twitter intern to rig the contest.\n",
      "\n",
      "https://lambodreams.com/2018/02/28/waltonchain-raffles-off-10-million-tokens-ceo-wins-them-five-minutes-later/\n",
      "-----------------\n",
      "So, I was thinking of working on the business project with a couple people.  One of our main concerns is how do we prove to everyone that we aren't a scam.  It's really hurting the industry in the long run. \n",
      "\n",
      "We are trying to set the system up in a way where we will owe everyone money to start.  That way when people initially buy in they are guaranteed to break even.  Although, that means a greater risk on our end.  Plus there is no guarantee that we couldn't run away and just find a nice island to settle on.\n",
      "\n",
      "Besides that though, we kinda just have to weather the storm I think.  Someone will call us a scam.  Just have to hope enough people believe.  Its the smallest thing that can dissuade someone though.  Like if our website is trashy.  It pushes some people away.  Meaning we have to spend money on a good website, which in turn is money we could have spent on a better product.\n",
      "-----------------\n",
      "That's for the service of exchanging the bitcoin, not capital gains tax. It means you won't get a VAT added on when exchanging it. VAT is a service tax, not an income or Capital tax.\n",
      "  \n",
      "It is pretty clear wording imho  \n",
      "  \n",
      "Here are some other clear wordings:  \n",
      "  \n",
      "&gt;Germany won't tax bitcoin users for using the cryptocurrency **as a means of payment**, the Ministry of Finance has said.  \n",
      "  \n",
      "&gt;Instead, Germany will regard bitcoin as the equivalent to legal tender for tax purposes when used **as a means of payment**, according to a new document.  \n",
      "  \n",
      "Okay?\n",
      "-----------------\n",
      "Yeah? We are talking about someone who focuses his time on making the world a better place through philanthropy not which altcoin went up 0.02% percent today. \n",
      "-----------------\n",
      "So if you can buy a house with bitcoins you will avoid capital gains taxes altogether, am I understanding it right?\n",
      "-----------------\n",
      "Sold everything!\n",
      "-----------------\n",
      "Sarah Kendzior is a famous writer too: https://twitter.com/sarahkendzior?ref_src=twsrc%5Egoogle%7Ctwcamp%5Eserp%7Ctwgr%5Eauthor\n",
      "\n",
      "Looks like they just put a bunch of random famous names in there.\n",
      "-----------------\n",
      "Exactly \n",
      "-----------------\n",
      "Crypto already has an aura of it being all fake money and scams, this for WTC just confirms it for their company.  Not touching WTC and removing it from my watch list.  Good luck everyone.\n",
      "-----------------\n",
      "Good time to buy Nano?\n",
      "-----------------\n",
      "This seems like emotional reaction. A screw up over approx 2 coins is not going to derail this project. Im buying in now\n",
      "-----------------\n",
      "lol\n",
      "\n",
      "RemindMe! 1 Year \"Did Nano fail yet?\"\n",
      "-----------------\n",
      "I think if it drops down to below 30K SAT, that is where you will see tremendous upward pressure. \n",
      "-----------------\n",
      "Sold everything! \n",
      "-----------------\n",
      "Maybe LTC should snapshot and fork into a block lattice coin. :P\n",
      "-----------------\n",
      "Buy a bitcoin for 10k and sell it for 11k: Pay 25% taxes on the 1k you made. Or hold it for over a year so it's tax free.\n",
      "\n",
      "I assume it's a reaction to Finanzamt Bonn which kinda went rogue not so long ago. They wanted to tax you 19% every time you buy bitcoin, so if you buy for 10k, you would have to pay 1.9k in taxes.. just because you bought it, like any other goods you buy in the supermarket etc:\n",
      "https://www.btc-echo.de/finanzamt-bonn-forderte-angeblich-umsatzsteuer-bei-bitcoin-veraeusserung/\n",
      "-----------------\n",
      "[removed]\n",
      "-----------------\n",
      "[removed]\n",
      "-----------------\n",
      "Dreamcoin is up 17.45% today just sayin'\n",
      "-----------------\n",
      "mkodddddddddddddddddd ....... p0-d\n",
      "-----------------\n",
      "His hideous [blue screens](https://www.google.co.uk/search?dcr=0&amp;biw=1280&amp;bih=716&amp;tbm=isch&amp;sa=1&amp;ei=RkOXWrSrEOWagAbi5Kz4BA&amp;q=blue+screen+of+death&amp;oq=blue+screen+&amp;gs_l=psy-ab.3.0.0j0i67k1l3j0j0i67k1j0l2j0i67k1l2.12415.12415.0.13961.1.1.0.0.0.0.114.114.0j1.1.0....0...1c.1.64.psy-ab..0.1.113....0.g29UpZVGq0k) have resulted in death and destruction around the world for more than 20 years,  fuck you bill \n",
      "-----------------\n",
      "I will be messaging you on [**2019-03-01 00:06:39 UTC**](http://www.wolframalpha.com/input/?i=2019-03-01 00:06:39 UTC To Local Time) to remind you of [**this link.**](https://www.reddit.com/r/CryptoCurrency/comments/80zvkm/lets_have_a_discussion_on_charlie_lees_public/)\n",
      "\n",
      "[**CLICK THIS LINK**](http://np.reddit.com/message/compose/?to=RemindMeBot&amp;subject=Reminder&amp;message=[https://www.reddit.com/r/CryptoCurrency/comments/80zvkm/lets_have_a_discussion_on_charlie_lees_public/]%0A%0ARemindMe!  1 Year ) to send a PM to also be reminded and to reduce spam.\n",
      "\n",
      "^(Parent commenter can ) [^(delete this message to hide from others.)](http://np.reddit.com/message/compose/?to=RemindMeBot&amp;subject=Delete Comment&amp;message=Delete! ____id____)\n",
      "\n",
      "_____\n",
      "\n",
      "|[^(FAQs)](http://np.reddit.com/r/RemindMeBot/comments/24duzp/remindmebot_info/)|[^(Custom)](http://np.reddit.com/message/compose/?to=RemindMeBot&amp;subject=Reminder&amp;message=[LINK INSIDE SQUARE BRACKETS else default to FAQs]%0A%0ANOTE: Don't forget to add the time options after the command.%0A%0ARemindMe!)|[^(Your Reminders)](http://np.reddit.com/message/compose/?to=RemindMeBot&amp;subject=List Of Reminders&amp;message=MyReminders!)|[^(Feedback)](http://np.reddit.com/message/compose/?to=RemindMeBotWrangler&amp;subject=Feedback)|[^(Code)](https://github.com/SIlver--/remindmebot-reddit)|[^(Browser Extensions)](https://np.reddit.com/r/RemindMeBot/comments/4kldad/remindmebot_extensions/)\n",
      "|-|-|-|-|-|-|\n",
      "-----------------\n",
      "...Once again, another portfolio missing dragonchain.\n",
      "-----------------\n"
     ]
    }
   ],
   "source": [
    "for txt in list(df[\"body\"][:100]):\n",
    "    print(txt)\n",
    "    print(\"-----------------\")"
   ]
  },
  {
   "cell_type": "markdown",
   "metadata": {},
   "source": [
    "At this point I'm going to remove text with too few and too much words. But what does 'too few' and 'too much' mean? We can make a plot and inspect the number of words per text along with the number of characters."
   ]
  },
  {
   "cell_type": "code",
   "execution_count": 6,
   "metadata": {},
   "outputs": [
    {
     "data": {
      "image/png": "[encoded data removed]",
      "text/plain": [
       "<Figure size 1080x360 with 2 Axes>"
      ]
     },
     "metadata": {
      "needs_background": "light"
     },
     "output_type": "display_data"
    }
   ],
   "source": [
    "def words_num(txt):\n",
    "     return len([x for x in txt.split() if 3 < len(x) < 30])\n",
    "\n",
    "def plot_chars_and_words():\n",
    "    plt.figure(figsize=(15, 5))\n",
    "\n",
    "    plt.subplot(121)\n",
    "    plt.plot(list(df[\"body\"].apply(len).sort_values()))\n",
    "    plt.ylabel(\"length of text\")\n",
    "\n",
    "    plt.subplot(122)\n",
    "    plt.plot(list(df[\"body\"].apply(lambda txt: words_num(txt)).sort_values()))\n",
    "    plt.ylabel(\"number of words\")\n",
    "\n",
    "    plt.show()\n",
    "\n",
    "plot_chars_and_words()"
   ]
  },
  {
   "cell_type": "code",
   "execution_count": 7,
   "metadata": {},
   "outputs": [
    {
     "data": {
      "text/plain": [
       "author         461045\n",
       "body           461045\n",
       "created_utc    461045\n",
       "dtype: int64"
      ]
     },
     "execution_count": 7,
     "metadata": {},
     "output_type": "execute_result"
    }
   ],
   "source": [
    "conf_min_chars = 150\n",
    "conf_max_chars = 2000\n",
    "conf_min_words = 20\n",
    "conf_max_words = 300\n",
    "\n",
    "condition = lambda txt: conf_max_chars > len(txt) > conf_min_chars and conf_max_words > words_num(txt) > conf_min_words\n",
    "df = df[df[\"body\"].map(condition)]\n",
    "df.count()"
   ]
  },
  {
   "cell_type": "code",
   "execution_count": 8,
   "metadata": {},
   "outputs": [
    {
     "data": {
      "image/png": "[encoded data removed]",
      "text/plain": [
       "<Figure size 1080x360 with 2 Axes>"
      ]
     },
     "metadata": {
      "needs_background": "light"
     },
     "output_type": "display_data"
    }
   ],
   "source": [
    "plot_chars_and_words()"
   ]
  },
  {
   "cell_type": "markdown",
   "metadata": {},
   "source": [
    "At this point we removed very large and very small comments, but we still have comments from authors that aren't writing frequently so we aren't really confident on their writing style and identifying them yet. We're going to keep authors with a certain ammount of comments."
   ]
  },
  {
   "cell_type": "code",
   "execution_count": 9,
   "metadata": {},
   "outputs": [
    {
     "data": {
      "image/png": "[encoded data removed]",
      "text/plain": [
       "<Figure size 936x360 with 1 Axes>"
      ]
     },
     "metadata": {
      "needs_background": "light"
     },
     "output_type": "display_data"
    }
   ],
   "source": [
    "def plot_posts_frequency():\n",
    "    plt.figure(figsize=(13, 5))\n",
    "    plt.plot(df[\"author\"].value_counts().to_list())\n",
    "    plt.ylabel(\"posts frequency\")\n",
    "    plt.show()\n",
    "\n",
    "plot_posts_frequency()"
   ]
  },
  {
   "cell_type": "markdown",
   "metadata": {},
   "source": [
    "We should keep authors with a frequency near the curve in the above diagram."
   ]
  },
  {
   "cell_type": "code",
   "execution_count": 10,
   "metadata": {},
   "outputs": [
    {
     "data": {
      "text/plain": [
       "('Total authors:', 155)"
      ]
     },
     "execution_count": 10,
     "metadata": {},
     "output_type": "execute_result"
    }
   ],
   "source": [
    "conf_min_posts_num = 200\n",
    "conf_max_posts_num = 1000\n",
    "df = df[df.groupby(\"author\")[\"author\"].transform(\"size\") > conf_min_posts_num]\n",
    "df = df[df.groupby(\"author\")[\"author\"].transform(\"size\") < conf_max_posts_num]\n",
    "\"Total authors:\", df[\"author\"].nunique()"
   ]
  },
  {
   "cell_type": "code",
   "execution_count": 11,
   "metadata": {},
   "outputs": [
    {
     "data": {
      "image/png": "[encoded data removed]",
      "text/plain": [
       "<Figure size 936x360 with 1 Axes>"
      ]
     },
     "metadata": {
      "needs_background": "light"
     },
     "output_type": "display_data"
    }
   ],
   "source": [
    "plot_posts_frequency()"
   ]
  },
  {
   "cell_type": "markdown",
   "metadata": {},
   "source": [
    "Now we can clean our texts by applying stemming, lemmatization and lowercase conversion."
   ]
  },
  {
   "cell_type": "code",
   "execution_count": 12,
   "metadata": {},
   "outputs": [],
   "source": [
    "conf_apply_stemming = True\n",
    "conf_apply_lemmatizing = True\n",
    "conf_to_lower_case = True\n",
    "\n",
    "w_tokenizer = nltk.tokenize.WhitespaceTokenizer()\n",
    "lem = nltk.stem.wordnet.WordNetLemmatizer()\n",
    "stem = nltk.stem.porter.PorterStemmer()\n",
    "\n",
    "def tokenize(text):\n",
    "    res = \"\"\n",
    "    for w in w_tokenizer.tokenize(text):\n",
    "        if conf_apply_lemmatizing:\n",
    "            w = lem.lemmatize(w)\n",
    "        if conf_apply_stemming:\n",
    "            w = stem.stem(w)\n",
    "        if conf_to_lower_case:\n",
    "            w = w.lower()\n",
    "        res += w + \" \"\n",
    "    return res.strip()\n",
    "\n",
    "df[\"optimized_body\"] = df[\"body\"].apply(tokenize)"
   ]
  },
  {
   "cell_type": "code",
   "execution_count": 13,
   "metadata": {},
   "outputs": [
    {
     "data": {
      "text/plain": [
       "17         InspectorCollector\n",
       "22                  Suuperdad\n",
       "109        InspectorCollector\n",
       "138                    simmol\n",
       "155                      Gsw-\n",
       "                  ...        \n",
       "2160357     aSchizophrenicCat\n",
       "2160381            stablecoin\n",
       "2160545        Mr_SpicyWeiner\n",
       "2160612        DeepFriedOprah\n",
       "2160621     CanadianCryptoGuy\n",
       "Name: author, Length: 48534, dtype: object"
      ]
     },
     "execution_count": 13,
     "metadata": {},
     "output_type": "execute_result"
    }
   ],
   "source": [
    "# pick a target author and train a model to recognize what he wrote\n",
    "df[\"author\"]"
   ]
  },
  {
   "cell_type": "markdown",
   "metadata": {},
   "source": [
    "And now let's train a model for a random author"
   ]
  },
  {
   "cell_type": "code",
   "execution_count": 14,
   "metadata": {},
   "outputs": [
    {
     "data": {
      "text/html": [
       "<div>\n",
       "<style scoped>\n",
       "    .dataframe tbody tr th:only-of-type {\n",
       "        vertical-align: middle;\n",
       "    }\n",
       "\n",
       "    .dataframe tbody tr th {\n",
       "        vertical-align: top;\n",
       "    }\n",
       "\n",
       "    .dataframe thead th {\n",
       "        text-align: right;\n",
       "    }\n",
       "</style>\n",
       "<table border=\"1\" class=\"dataframe\">\n",
       "  <thead>\n",
       "    <tr style=\"text-align: right;\">\n",
       "      <th></th>\n",
       "      <th>author</th>\n",
       "      <th>body</th>\n",
       "      <th>created_utc</th>\n",
       "      <th>optimized_body</th>\n",
       "      <th>is_target</th>\n",
       "    </tr>\n",
       "  </thead>\n",
       "  <tbody>\n",
       "    <tr>\n",
       "      <th>17</th>\n",
       "      <td>InspectorCollector</td>\n",
       "      <td>Thats what i'm hoping for. It seems a strong p...</td>\n",
       "      <td>1519862448</td>\n",
       "      <td>that what i'm hope for. it seem a strong platf...</td>\n",
       "      <td>False</td>\n",
       "    </tr>\n",
       "    <tr>\n",
       "      <th>22</th>\n",
       "      <td>Suuperdad</td>\n",
       "      <td>I insta sold. Entire stack. Fuck that shit.\\n\\...</td>\n",
       "      <td>1519862462</td>\n",
       "      <td>i insta sold. entir stack. fuck that shit. eve...</td>\n",
       "      <td>False</td>\n",
       "    </tr>\n",
       "    <tr>\n",
       "      <th>109</th>\n",
       "      <td>InspectorCollector</td>\n",
       "      <td>Deepest apologies. I thought the added specifi...</td>\n",
       "      <td>1519862847</td>\n",
       "      <td>deepest apologies. i thought the ad specif of ...</td>\n",
       "      <td>False</td>\n",
       "    </tr>\n",
       "    <tr>\n",
       "      <th>138</th>\n",
       "      <td>simmol</td>\n",
       "      <td>But in this market, it is not just about funda...</td>\n",
       "      <td>1519862966</td>\n",
       "      <td>but in thi market, it is not just about fundam...</td>\n",
       "      <td>True</td>\n",
       "    </tr>\n",
       "    <tr>\n",
       "      <th>155</th>\n",
       "      <td>Gsw-</td>\n",
       "      <td>Heavy bags? It's already started recovering si...</td>\n",
       "      <td>1519863033</td>\n",
       "      <td>heavi bags? it' alreadi start recov sinc it we...</td>\n",
       "      <td>False</td>\n",
       "    </tr>\n",
       "  </tbody>\n",
       "</table>\n",
       "</div>"
      ],
      "text/plain": [
       "                 author                                               body  \\\n",
       "17   InspectorCollector  Thats what i'm hoping for. It seems a strong p...   \n",
       "22            Suuperdad  I insta sold. Entire stack. Fuck that shit.\\n\\...   \n",
       "109  InspectorCollector  Deepest apologies. I thought the added specifi...   \n",
       "138              simmol  But in this market, it is not just about funda...   \n",
       "155                Gsw-  Heavy bags? It's already started recovering si...   \n",
       "\n",
       "    created_utc                                     optimized_body  is_target  \n",
       "17   1519862448  that what i'm hope for. it seem a strong platf...      False  \n",
       "22   1519862462  i insta sold. entir stack. fuck that shit. eve...      False  \n",
       "109  1519862847  deepest apologies. i thought the ad specif of ...      False  \n",
       "138  1519862966  but in thi market, it is not just about fundam...       True  \n",
       "155  1519863033  heavi bags? it' alreadi start recov sinc it we...      False  "
      ]
     },
     "execution_count": 14,
     "metadata": {},
     "output_type": "execute_result"
    }
   ],
   "source": [
    "# pick target author and add a new column which indicates whether or not he is the target author.\n",
    "# this is the column that we're going to try to predict.\n",
    "target_author = \"simmol\"\n",
    "df[\"is_target\"] = df[\"author\"]==target_author\n",
    "df.head()"
   ]
  },
  {
   "cell_type": "code",
   "execution_count": 15,
   "metadata": {},
   "outputs": [
    {
     "data": {
      "text/plain": [
       "False    47888\n",
       "True       646\n",
       "Name: is_target, dtype: int64"
      ]
     },
     "execution_count": 15,
     "metadata": {},
     "output_type": "execute_result"
    }
   ],
   "source": [
    "df[\"is_target\"].value_counts()"
   ]
  },
  {
   "cell_type": "markdown",
   "metadata": {},
   "source": [
    "It's clear that we have much more False values against True. We want to have a balance in our dataset so we're going to keep an ammount of False close to the number of True. We can achieve that by sampling the dataset."
   ]
  },
  {
   "cell_type": "code",
   "execution_count": 16,
   "metadata": {},
   "outputs": [
    {
     "data": {
      "text/html": [
       "<div>\n",
       "<style scoped>\n",
       "    .dataframe tbody tr th:only-of-type {\n",
       "        vertical-align: middle;\n",
       "    }\n",
       "\n",
       "    .dataframe tbody tr th {\n",
       "        vertical-align: top;\n",
       "    }\n",
       "\n",
       "    .dataframe thead th {\n",
       "        text-align: right;\n",
       "    }\n",
       "</style>\n",
       "<table border=\"1\" class=\"dataframe\">\n",
       "  <thead>\n",
       "    <tr style=\"text-align: right;\">\n",
       "      <th></th>\n",
       "      <th>author</th>\n",
       "      <th>body</th>\n",
       "      <th>created_utc</th>\n",
       "      <th>optimized_body</th>\n",
       "      <th>is_target</th>\n",
       "    </tr>\n",
       "  </thead>\n",
       "  <tbody>\n",
       "    <tr>\n",
       "      <th>0</th>\n",
       "      <td>Mr0ldy</td>\n",
       "      <td>That is definitely a possibility. After watchi...</td>\n",
       "      <td>1514497300</td>\n",
       "      <td>that is definit a possibility. after watch the...</td>\n",
       "      <td>False</td>\n",
       "    </tr>\n",
       "    <tr>\n",
       "      <th>1</th>\n",
       "      <td>simmol</td>\n",
       "      <td>For those of you who think that ICX is recover...</td>\n",
       "      <td>1517396799</td>\n",
       "      <td>for those of you who think that icx is recover...</td>\n",
       "      <td>True</td>\n",
       "    </tr>\n",
       "    <tr>\n",
       "      <th>2</th>\n",
       "      <td>simmol</td>\n",
       "      <td>I really think ENG is going to do well the nex...</td>\n",
       "      <td>1516765572</td>\n",
       "      <td>i realli think eng is go to do well the next f...</td>\n",
       "      <td>True</td>\n",
       "    </tr>\n",
       "    <tr>\n",
       "      <th>3</th>\n",
       "      <td>simmol</td>\n",
       "      <td>I really am not sure how to get in here.  It s...</td>\n",
       "      <td>1519824013</td>\n",
       "      <td>i realli am not sure how to get in here. it se...</td>\n",
       "      <td>True</td>\n",
       "    </tr>\n",
       "    <tr>\n",
       "      <th>4</th>\n",
       "      <td>opus_dota</td>\n",
       "      <td>Do you have accounts at huobi or bibox or crpy...</td>\n",
       "      <td>1519496429</td>\n",
       "      <td>do you have account at huobi or bibox or crpyt...</td>\n",
       "      <td>False</td>\n",
       "    </tr>\n",
       "  </tbody>\n",
       "</table>\n",
       "</div>"
      ],
      "text/plain": [
       "      author                                               body created_utc  \\\n",
       "0     Mr0ldy  That is definitely a possibility. After watchi...  1514497300   \n",
       "1     simmol  For those of you who think that ICX is recover...  1517396799   \n",
       "2     simmol  I really think ENG is going to do well the nex...  1516765572   \n",
       "3     simmol  I really am not sure how to get in here.  It s...  1519824013   \n",
       "4  opus_dota  Do you have accounts at huobi or bibox or crpy...  1519496429   \n",
       "\n",
       "                                      optimized_body  is_target  \n",
       "0  that is definit a possibility. after watch the...      False  \n",
       "1  for those of you who think that icx is recover...       True  \n",
       "2  i realli think eng is go to do well the next f...       True  \n",
       "3  i realli am not sure how to get in here. it se...       True  \n",
       "4  do you have account at huobi or bibox or crpyt...      False  "
      ]
     },
     "execution_count": 16,
     "metadata": {},
     "output_type": "execute_result"
    }
   ],
   "source": [
    "sdf = pd.concat([df[df[\"is_target\"] == True], df[df[\"is_target\"] == False].sample(n=400)])\n",
    "sdf = sdf.sample(frac=1).reset_index(drop=True) # random shuffle\n",
    "sdf.head()"
   ]
  },
  {
   "cell_type": "markdown",
   "metadata": {},
   "source": [
    "Now let's move forward to vectorizing the corpus. Since computers perform better with numbers we have to convert our corpus to a machine-friendly format."
   ]
  },
  {
   "cell_type": "code",
   "execution_count": 17,
   "metadata": {},
   "outputs": [
    {
     "data": {
      "text/plain": [
       "(1046, 1505)"
      ]
     },
     "execution_count": 17,
     "metadata": {},
     "output_type": "execute_result"
    }
   ],
   "source": [
    "from sklearn.feature_extraction.text import TfidfVectorizer\n",
    "\n",
    "conf_max_df=.80\n",
    "conf_min_df=0.01\n",
    "conf_n_gram_range=(1,3)\n",
    "conf_remove_stop_words=False\n",
    "\n",
    "vectorizer = TfidfVectorizer(\n",
    "    max_df=conf_max_df,\n",
    "    min_df=conf_min_df,\n",
    "    ngram_range=conf_n_gram_range,\n",
    "    stop_words=\"english\" if conf_remove_stop_words else None,\n",
    "    token_pattern=r'(?u)\\b[A-Za-z0-9]+\\b'\n",
    ")\n",
    "\n",
    "vectors = vectorizer.fit_transform(sdf[\"optimized_body\"])\n",
    "vectors.shape"
   ]
  },
  {
   "cell_type": "markdown",
   "metadata": {},
   "source": [
    "Let's split our dataset to train/test"
   ]
  },
  {
   "cell_type": "code",
   "execution_count": 18,
   "metadata": {},
   "outputs": [
    {
     "data": {
      "text/plain": [
       "((836, 1505), (210, 1505), (836,), (210,))"
      ]
     },
     "execution_count": 18,
     "metadata": {},
     "output_type": "execute_result"
    }
   ],
   "source": [
    "from sklearn.model_selection import train_test_split\n",
    "\n",
    "X_train, X_test, y_train, y_test = train_test_split(\n",
    "    vectors,\n",
    "    sdf[\"is_target\"],\n",
    "    test_size=0.20,\n",
    "    random_state=42\n",
    ")\n",
    "\n",
    "X_train.shape, X_test.shape, y_train.shape, y_test.shape"
   ]
  },
  {
   "cell_type": "markdown",
   "metadata": {},
   "source": [
    "We're going to try 3 different classifiers (SGD, SVM, Bayesian)"
   ]
  },
  {
   "cell_type": "code",
   "execution_count": 19,
   "metadata": {},
   "outputs": [
    {
     "name": "stdout",
     "output_type": "stream",
     "text": [
      "0.9238095238095239\n",
      "[[ 71  12]\n",
      " [  4 123]]\n",
      "              precision    recall  f1-score   support\n",
      "\n",
      "           0       0.95      0.86      0.90        83\n",
      "           1       0.91      0.97      0.94       127\n",
      "\n",
      "    accuracy                           0.92       210\n",
      "   macro avg       0.93      0.91      0.92       210\n",
      "weighted avg       0.93      0.92      0.92       210\n",
      "\n"
     ]
    }
   ],
   "source": [
    "from sklearn.metrics import accuracy_score\n",
    "from sklearn.metrics import confusion_matrix\n",
    "from sklearn.linear_model import SGDClassifier\n",
    "from sklearn.metrics import classification_report\n",
    "\n",
    "classifier = SGDClassifier(\n",
    "    loss=\"log\",\n",
    "    penalty=\"l1\",\n",
    "    max_iter=15,\n",
    "    n_jobs=-1,\n",
    "    random_state=42\n",
    ")\n",
    "\n",
    "classifier.fit(X_train, y_train)\n",
    "predictions = classifier.predict(X_test)\n",
    "\n",
    "print(accuracy_score(y_test, predictions))\n",
    "print(confusion_matrix(y_test, predictions))\n",
    "print(classification_report(y_test, predictions, target_names=[\"0\", \"1\"]))"
   ]
  },
  {
   "cell_type": "code",
   "execution_count": 20,
   "metadata": {},
   "outputs": [
    {
     "name": "stdout",
     "output_type": "stream",
     "text": [
      "0.9285714285714286\n",
      "[[ 70  13]\n",
      " [  2 125]]\n",
      "              precision    recall  f1-score   support\n",
      "\n",
      "           0       0.97      0.84      0.90        83\n",
      "           1       0.91      0.98      0.94       127\n",
      "\n",
      "    accuracy                           0.93       210\n",
      "   macro avg       0.94      0.91      0.92       210\n",
      "weighted avg       0.93      0.93      0.93       210\n",
      "\n"
     ]
    }
   ],
   "source": [
    "from sklearn.svm import LinearSVC\n",
    "\n",
    "classifier = LinearSVC(tol=1e-8, max_iter=10000)\n",
    "\n",
    "classifier.fit(X_train, y_train)\n",
    "predictions = classifier.predict(X_test)\n",
    "\n",
    "print(accuracy_score(y_test, predictions))\n",
    "print(confusion_matrix(y_test, predictions))\n",
    "print(classification_report(y_test, predictions, target_names=[\"0\", \"1\"]))"
   ]
  },
  {
   "cell_type": "code",
   "execution_count": 21,
   "metadata": {},
   "outputs": [
    {
     "name": "stdout",
     "output_type": "stream",
     "text": [
      "0.8428571428571429\n",
      "[[ 63  20]\n",
      " [ 13 114]]\n",
      "              precision    recall  f1-score   support\n",
      "\n",
      "           0       0.83      0.76      0.79        83\n",
      "           1       0.85      0.90      0.87       127\n",
      "\n",
      "    accuracy                           0.84       210\n",
      "   macro avg       0.84      0.83      0.83       210\n",
      "weighted avg       0.84      0.84      0.84       210\n",
      "\n"
     ]
    }
   ],
   "source": [
    "from sklearn.naive_bayes import GaussianNB\n",
    "\n",
    "classifier = GaussianNB()\n",
    "\n",
    "classifier.fit(X_train.toarray(), y_train)\n",
    "predictions = classifier.predict(X_test.toarray())\n",
    "\n",
    "print(accuracy_score(y_test, predictions))\n",
    "print(confusion_matrix(y_test, predictions))\n",
    "print(classification_report(y_test, predictions, target_names=[\"0\", \"1\"]))"
   ]
  },
  {
   "cell_type": "markdown",
   "metadata": {},
   "source": [
    "SVM and SGD perform slightly better than bayesian. We're going to pick SVM because SGD requires larger datasets to converge."
   ]
  },
  {
   "cell_type": "markdown",
   "metadata": {},
   "source": [
    "Let's collect the average results for every author."
   ]
  },
  {
   "cell_type": "code",
   "execution_count": 22,
   "metadata": {},
   "outputs": [
    {
     "name": "stdout",
     "output_type": "stream",
     "text": [
      "0.831185500847153\n",
      "[[8117 1641]\n",
      " [1647 8072]]\n",
      "              precision    recall  f1-score   support\n",
      "\n",
      "           0       0.83      0.83      0.83      9758\n",
      "           1       0.83      0.83      0.83      9719\n",
      "\n",
      "    accuracy                           0.83     19477\n",
      "   macro avg       0.83      0.83      0.83     19477\n",
      "weighted avg       0.83      0.83      0.83     19477\n",
      "\n"
     ]
    }
   ],
   "source": [
    "y_true = np.array([])\n",
    "y_pred = np.array([])\n",
    "\n",
    "for target_author, _ in df[\"author\"].value_counts().items():\n",
    "    classifier = LinearSVC(tol=1e-9, max_iter=1000000)\n",
    "    \n",
    "    df[\"is_target\"] = df[\"author\"]==target_author\n",
    "    dft = df[df[\"is_target\"] == True]    \n",
    "    dff = df[df[\"is_target\"] == False].sample(n=dft.shape[0])\n",
    "    sdf = pd.concat([dft, dff])\n",
    "    sdf = sdf.sample(frac=1).reset_index(drop=True) # random shuffle\n",
    "    \n",
    "    vectors = vectorizer.fit_transform(sdf[\"optimized_body\"])\n",
    "    X_train, X_test, y_train, y_test = train_test_split(\n",
    "        vectors,\n",
    "        sdf[\"is_target\"],\n",
    "        test_size=0.20,\n",
    "        random_state=42\n",
    "    )\n",
    "    classifier.fit(X_train.toarray(), y_train)\n",
    "    predictions = classifier.predict(X_test.toarray())\n",
    "\n",
    "    y_true = np.append(y_true, y_test)\n",
    "    y_pred = np.append(y_pred, predictions)\n",
    "    \n",
    "print(accuracy_score(y_true, y_pred))\n",
    "print(confusion_matrix(y_true, y_pred))\n",
    "print(classification_report(y_true, y_pred, target_names=[\"0\", \"1\"]))"
   ]
  },
  {
   "cell_type": "code",
   "execution_count": null,
   "metadata": {},
   "outputs": [],
   "source": []
  }
 ],
 "metadata": {
  "kernelspec": {
   "display_name": "Python 3",
   "language": "python",
   "name": "python3"
  },
  "language_info": {
   "codemirror_mode": {
    "name": "ipython",
    "version": 3
   },
   "file_extension": ".py",
   "mimetype": "text/x-python",
   "name": "python",
   "nbconvert_exporter": "python",
   "pygments_lexer": "ipython3",
   "version": "3.7.4"
  }
 },
 "nbformat": 4,
 "nbformat_minor": 4
}
